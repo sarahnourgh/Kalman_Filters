{
 "cells": [
  {
   "cell_type": "markdown",
   "metadata": {},
   "source": [
    "# Overview \n",
    "The objective of this project is to provide a simple and intuitive introduction to the Kalman filter. "
   ]
  },
  {
   "cell_type": "markdown",
   "metadata": {},
   "source": [
    "# Importing necessary libraries "
   ]
  },
  {
   "cell_type": "code",
   "execution_count": 2,
   "metadata": {},
   "outputs": [],
   "source": [
    "import matplotlib.pyplot as plt\n",
    "plt.rcParams['figure.figsize'] = (11,5)\n",
    "from scipy import linalg\n",
    "import numpy as np \n",
    "import matplotlib.cm as cm\n",
    "from quantecon import Kalman, LinearStateSpace\n",
    "from scipy.stats import norm\n",
    "from scipy.stats import norm\n",
    "from scipy.integrate import quad\n",
    "from scipy.linalg import eigvals"
   ]
  },
  {
   "cell_type": "markdown",
   "metadata": {},
   "source": [
    "# The Basic Idea\n",
    "\n",
    "The Kalman filter has many applications in economics, but for now let’s pretend that we are rocket scientists.\n",
    "\n",
    "A missile has been launched from country Y and our mission is to track it.\n",
    "\n",
    "Let $x \\in R^2$ be the position of the missile; a vector with two elements: the latitude and longitude coordinates on a map.\n",
    "\n",
    "The precise location of x is unknown, but we have some knowledge about it. \n",
    "\n",
    "We summarize our initial beliefs about the location of the missile in a probability distribution: \n",
    "$\\int_E p(x)\\,\\mathrm dx$. The density $p$ is called the prior density for the random variable $x$. \n",
    "We assume that our prior density is a multivariate normal distribution with mean $\\mu$ and covariance matrix $\\Sigma$ : \n",
    "$p = N(\\hat{x}, \\Sigma)$.\n",
    "Where : \n",
    "\n",
    "$\\hat{x} = \\begin{bmatrix} 0.2 \\\\ -0.2 \\end{bmatrix}$, $\\Sigma = \\begin{bmatrix} 0.4 & 0.3 \\\\ 0.3 & 0.45 \\end{bmatrix}$\n",
    "\n",
    "The density function $p$ is shown in the figure below. The contours represent the density of the distribution. The center being the mean $\\hat{x}$."
   ]
  },
  {
   "cell_type": "code",
   "execution_count": 12,
   "metadata": {},
   "outputs": [],
   "source": [
    "# Set up the Gaussian prior density p\n",
    "sigma = np.array([[0.4, 0.3], [0.3, 0.45]])\n",
    "x_hat = np.array([[0.2], [-0.2]])\n",
    "\n",
    "# Define matrices G and R for the observation equation y_t = G x_t + v_t, v_t ~ N(0,R)\n",
    "G = np.array([[1.0, 0], [0, 1.0]])\n",
    "R = sigma * 0.5\n",
    "\n",
    "#The matrices A and Q for the state equation x_{t+1} = A x_t + w_t, w_t ~ N(0,Q)\n",
    "A = np.array([[1.2, 0], [0, -0.2]])"
   ]
  },
  {
   "cell_type": "markdown",
   "metadata": {},
   "source": []
  }
 ],
 "metadata": {
  "kernelspec": {
   "display_name": "Python 3",
   "language": "python",
   "name": "python3"
  },
  "language_info": {
   "codemirror_mode": {
    "name": "ipython",
    "version": 3
   },
   "file_extension": ".py",
   "mimetype": "text/x-python",
   "name": "python",
   "nbconvert_exporter": "python",
   "pygments_lexer": "ipython3",
   "version": "3.10.8"
  }
 },
 "nbformat": 4,
 "nbformat_minor": 2
}
